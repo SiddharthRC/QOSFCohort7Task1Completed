{
 "cells": [
  {
   "cell_type": "code",
   "execution_count": 72,
   "id": "76ea2aee",
   "metadata": {
    "scrolled": true
   },
   "outputs": [],
   "source": [
    "from qiskit import QuantumCircuit, QuantumRegister, ClassicalRegister, execute, Aer"
   ]
  },
  {
   "cell_type": "code",
   "execution_count": 73,
   "id": "b31a4b71",
   "metadata": {},
   "outputs": [],
   "source": [
    "from qiskit import QuantumCircuit, QuantumRegister, ClassicalRegister, execute, Aer\n",
    "def find_the_largest_number(number_1, number_2):\n",
    "    # Redefining the integers for easier readability.\n",
    "    a = number_1\n",
    "    b = number_2\n",
    "\n",
    "    # Convert the integers to binary strings.\n",
    "    bin_a = format(a, 'b')\n",
    "    bin_b = format(b, 'b')\n",
    "\n",
    "    # Determine the number of bits needed to represent the larger of the two integers.\n",
    "    n_bits = max(len(bin_a), len(bin_b))\n",
    "\n",
    "    # Pad the binary strings with leading zeros if necessary, to allow for no errors below.\n",
    "    bin_a = bin_a.rjust(n_bits, '0')\n",
    "    bin_b = bin_b.rjust(n_bits, '0')\n",
    "\n",
    "    # Create the quantum and classical registers, in addition to the quantum circuit.\n",
    "    q_a = QuantumRegister(n_bits, name='a')\n",
    "    q_b = QuantumRegister(n_bits, name='b')\n",
    "    creg = ClassicalRegister(1, name='result')\n",
    "    qc = QuantumCircuit(q_a, q_b, creg)\n",
    "\n",
    "    # Initialize the qubits in the \"a\" register to represent the first integer.Note that these qubits are then added to the circuit.\n",
    "    for i in range(n_bits):\n",
    "        if bin_a[i] == '1':\n",
    "            qc.x(q_a[n_bits - 1 - i])\n",
    "\n",
    "    # Initialize the qubits in the \"b\" register to represent the second integer. Note that these qubits are then added to the circuit.\n",
    "    for i in range(n_bits):\n",
    "        if bin_b[i] == '1':\n",
    "            qc.x(q_b[n_bits - 1 - i])\n",
    "\n",
    "    # Comparing the integers in a \"quantum\" manner. The first qubit is of the \"a\" register is used for the final result.\n",
    "    for i in range(n_bits):\n",
    "        qc.cx(q_a[i], q_b[i])\n",
    "    qc.x(q_b)    # invert the bits of b to compute a-b\n",
    "    \n",
    "    # Could have used a CNOT gate, but I am more familiar with the usage of the CX gate.\n",
    "    for i in range(n_bits-1):\n",
    "        qc.cx(q_a[i], q_b[i+1]) # CX gate on ith q_a qubit and (i+1)th q_b qubit.\n",
    "        \n",
    "    qc.x(q_b[0]) # Not the flipping of the first qubit of the \"b\" register.\n",
    "    \n",
    "    for i in range(n_bits-1):\n",
    "        qc.cx(q_a[i], q_b[i+1]) # CX gate on ith q_a qubit and (i+1)th q_b qubit. Reverses previous implementation.\n",
    "        \n",
    "    qc.cx(q_a[n_bits-1], q_b[n_bits-1]) # One final CX.\n",
    "\n",
    "    # Measure the first qubit of the \"a\" register to get the result\n",
    "    qc.measure(q_a[0], creg[0])\n",
    "\n",
    "    # Executing the circuit on the \"qasm_simulator\"\n",
    "    backend = Aer.get_backend('qasm_simulator')\n",
    "    result = execute(qc, backend, shots=1024).result()\n",
    "    counts = result.get_counts()\n",
    "\n",
    "    # Printing the result with a side note.\n",
    "    if (a == b): # Due to constraints of quantum computing ()\n",
    "        print(\"Note this function will not work for the same two numbers due to the result always being zero when comparing two using the comparison circuit with two binary numbers being written the same with qubits, hence the incorrect result below.\")\n",
    "    if '0' in counts: \n",
    "        print(str(a) + \" is the larger number\")\n",
    "    else:\n",
    "        print(str(b) + \" is the larger number\")\n"
   ]
  },
  {
   "cell_type": "code",
   "execution_count": 74,
   "id": "4d4a5efa",
   "metadata": {},
   "outputs": [
    {
     "name": "stdout",
     "output_type": "stream",
     "text": [
      "100 is the larger number\n"
     ]
    }
   ],
   "source": [
    "find_the_largest_number(100,99)"
   ]
  },
  {
   "cell_type": "code",
   "execution_count": null,
   "id": "430b36fe",
   "metadata": {},
   "outputs": [],
   "source": []
  }
 ],
 "metadata": {
  "kernelspec": {
   "display_name": "Python 3 (ipykernel)",
   "language": "python",
   "name": "python3"
  },
  "language_info": {
   "codemirror_mode": {
    "name": "ipython",
    "version": 3
   },
   "file_extension": ".py",
   "mimetype": "text/x-python",
   "name": "python",
   "nbconvert_exporter": "python",
   "pygments_lexer": "ipython3",
   "version": "3.9.13"
  }
 },
 "nbformat": 4,
 "nbformat_minor": 5
}
